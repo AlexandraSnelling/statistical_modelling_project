{
 "cells": [
  {
   "cell_type": "markdown",
   "metadata": {},
   "source": [
    "# Joining Data"
   ]
  },
  {
   "cell_type": "code",
   "execution_count": 40,
   "metadata": {
    "tags": []
   },
   "outputs": [],
   "source": [
    "import sqlite3\n",
    "import pandas as pd\n",
    "import statsmodels.api as sm\n",
    "import numpy as np\n",
    "import matplotlib.pyplot as plt\n",
    "import seaborn as sns"
   ]
  },
  {
   "cell_type": "markdown",
   "metadata": {},
   "source": [
    "Load temporal bikeshare data from .pkl files"
   ]
  },
  {
   "cell_type": "code",
   "execution_count": 17,
   "metadata": {
    "tags": []
   },
   "outputs": [],
   "source": [
    "#call all bikeshare dataframes saved as a .pkl files\n",
    "bikeshare_5pm_df= pd.read_pickle(\"result_5_05pm_vancouver_bikeshare.pkl\")\n",
    "bikeshare_6pm_df= pd.read_pickle(\"result_6_12pm_vancouver_bikeshare.pkl\")\n",
    "bikeshare_7pm_df= pd.read_pickle(\"result_7_18pm_vancouver_bikeshare.pkl\")\n",
    "bikeshare_8pm_df= pd.read_pickle(\"result_8_05pm_vancouver_bikeshare.pkl\")\n",
    "bikeshare_9pm_df= pd.read_pickle(\"result_9_05pm_vancouver_bikeshare.pkl\")\n",
    "bikeshare_10pm_df= pd.read_pickle(\"result_10_10pm_vancouver_bikeshare.pkl\")\n",
    "# bikeshare_11pm_df= pd.read_pickle(\"result_11pm_vancouver_bikeshare.pkl\")\n",
    "bikeshare_12am_df= pd.read_pickle(\"result_12_13am_vancouver_bikeshare.pkl\")\n",
    "bikeshare_1am_df= pd.read_pickle(\"result_1_10am_vancouver_bikeshare.pkl\")\n",
    "bikeshare_2am_df= pd.read_pickle(\"result_2_05am_vancouver_bikeshare.pkl\")\n",
    "bikeshare_3am_df= pd.read_pickle(\"result_3_05am_vancouver_bikeshare.pkl\")"
   ]
  },
  {
   "cell_type": "code",
   "execution_count": 18,
   "metadata": {
    "tags": []
   },
   "outputs": [
    {
     "data": {
      "text/html": [
       "<div>\n",
       "<style scoped>\n",
       "    .dataframe tbody tr th:only-of-type {\n",
       "        vertical-align: middle;\n",
       "    }\n",
       "\n",
       "    .dataframe tbody tr th {\n",
       "        vertical-align: top;\n",
       "    }\n",
       "\n",
       "    .dataframe thead th {\n",
       "        text-align: right;\n",
       "    }\n",
       "</style>\n",
       "<table border=\"1\" class=\"dataframe\">\n",
       "  <thead>\n",
       "    <tr style=\"text-align: right;\">\n",
       "      <th></th>\n",
       "      <th>city</th>\n",
       "      <th>latitude</th>\n",
       "      <th>longitude</th>\n",
       "      <th>name</th>\n",
       "      <th>id</th>\n",
       "      <th>empty_slots</th>\n",
       "      <th>free_bikes</th>\n",
       "      <th>timestamp</th>\n",
       "      <th>ebikes</th>\n",
       "      <th>normal_bikes</th>\n",
       "      <th>slots</th>\n",
       "    </tr>\n",
       "  </thead>\n",
       "  <tbody>\n",
       "    <tr>\n",
       "      <th>0</th>\n",
       "      <td>Vancouver</td>\n",
       "      <td>49.262487</td>\n",
       "      <td>-123.114397</td>\n",
       "      <td>10th &amp; Cambie</td>\n",
       "      <td>7a19c49f486d7c0c02b3685d7b240448</td>\n",
       "      <td>27</td>\n",
       "      <td>8</td>\n",
       "      <td>2024-02-09 16:57:42.176000-08:00</td>\n",
       "      <td>4</td>\n",
       "      <td>4</td>\n",
       "      <td>36</td>\n",
       "    </tr>\n",
       "    <tr>\n",
       "      <th>1</th>\n",
       "      <td>Vancouver</td>\n",
       "      <td>49.274566</td>\n",
       "      <td>-123.121817</td>\n",
       "      <td>Yaletown-Roundhouse Station</td>\n",
       "      <td>32603a87cfca71d0f7dfa3513bad69d5</td>\n",
       "      <td>3</td>\n",
       "      <td>13</td>\n",
       "      <td>2024-02-09 16:57:42.168000-08:00</td>\n",
       "      <td>0</td>\n",
       "      <td>13</td>\n",
       "      <td>16</td>\n",
       "    </tr>\n",
       "    <tr>\n",
       "      <th>2</th>\n",
       "      <td>Vancouver</td>\n",
       "      <td>49.279764</td>\n",
       "      <td>-123.110154</td>\n",
       "      <td>Dunsmuir &amp; Beatty</td>\n",
       "      <td>6d42fa40360f9a6b2bf641c7b8bb2862</td>\n",
       "      <td>17</td>\n",
       "      <td>8</td>\n",
       "      <td>2024-02-09 16:57:42.173000-08:00</td>\n",
       "      <td>0</td>\n",
       "      <td>8</td>\n",
       "      <td>26</td>\n",
       "    </tr>\n",
       "  </tbody>\n",
       "</table>\n",
       "</div>"
      ],
      "text/plain": [
       "        city   latitude   longitude                         name  \\\n",
       "0  Vancouver  49.262487 -123.114397                10th & Cambie   \n",
       "1  Vancouver  49.274566 -123.121817  Yaletown-Roundhouse Station   \n",
       "2  Vancouver  49.279764 -123.110154            Dunsmuir & Beatty   \n",
       "\n",
       "                                 id  empty_slots  free_bikes  \\\n",
       "0  7a19c49f486d7c0c02b3685d7b240448           27           8   \n",
       "1  32603a87cfca71d0f7dfa3513bad69d5            3          13   \n",
       "2  6d42fa40360f9a6b2bf641c7b8bb2862           17           8   \n",
       "\n",
       "                         timestamp  ebikes  normal_bikes  slots  \n",
       "0 2024-02-09 16:57:42.176000-08:00       4             4     36  \n",
       "1 2024-02-09 16:57:42.168000-08:00       0            13     16  \n",
       "2 2024-02-09 16:57:42.173000-08:00       0             8     26  "
      ]
     },
     "execution_count": 18,
     "metadata": {},
     "output_type": "execute_result"
    }
   ],
   "source": [
    "# # Optional check to ensure the data loaded properly\n",
    "bikeshare_5pm_df.head(3)"
   ]
  },
  {
   "cell_type": "markdown",
   "metadata": {},
   "source": [
    "**Create new dataframe for percent available bikes** <br>\n",
    "Combine all timepoints with bikeshare id as the key and a column for percent available bikes at each timepoint calculated as free bikes / total slots"
   ]
  },
  {
   "cell_type": "code",
   "execution_count": 19,
   "metadata": {
    "tags": []
   },
   "outputs": [
    {
     "name": "stdout",
     "output_type": "stream",
     "text": [
      "                                 id  2024-02-09, 17:00:00  \\\n",
      "0  7a19c49f486d7c0c02b3685d7b240448              0.222222   \n",
      "1  32603a87cfca71d0f7dfa3513bad69d5              0.812500   \n",
      "2  6d42fa40360f9a6b2bf641c7b8bb2862              0.307692   \n",
      "3  66f873d641d448bd1572ab086665a458              0.062500   \n",
      "4  485d4d24c803cfde829ab89699fed833              0.312500   \n",
      "\n",
      "   2024-02-09, 18:00:00  2024-02-09, 19:00:00  2024-02-09, 20:00:00  \\\n",
      "0              0.083333              0.027778              0.055556   \n",
      "1              0.625000              0.687500              0.625000   \n",
      "2              0.307692              0.153846              0.153846   \n",
      "3              0.062500              0.062500              0.062500   \n",
      "4              0.250000              0.375000              0.312500   \n",
      "\n",
      "   2024-02-09, 21:00:00  2024-02-09, 22:00:00  2024-02-10, 00:00:00  \\\n",
      "0              0.027778              0.027778              0.027778   \n",
      "1              0.562500              0.562500              0.500000   \n",
      "2              0.230769              0.230769              0.192308   \n",
      "3              0.062500              0.062500              0.062500   \n",
      "4              0.187500              0.125000              0.125000   \n",
      "\n",
      "   2024-02-10, 01:00:00  2024-02-10, 02:00:00  2024-02-10, 03:00:00  \n",
      "0              0.027778              0.027778              0.027778  \n",
      "1              0.500000              0.562500              0.562500  \n",
      "2              0.192308              0.192308              0.192308  \n",
      "3              0.062500              0.062500              0.062500  \n",
      "4              0.125000              0.125000              0.125000  \n",
      "(248, 11)\n"
     ]
    }
   ],
   "source": [
    "#Create new dataframe\n",
    "#id column copy assigned from a single timepoint df \n",
    "available_bikes_df = bikeshare_5pm_df[['id']].copy()\n",
    "\n",
    "# columns created for percent available bikes from each timepoint calculated as (calculated as free bikes / total slots)\n",
    "# columns labelled with timestamp for use in graphical representation and two-way time series ANOVA to follow\n",
    "available_bikes_df['2024-02-09, 17:00:00'] = bikeshare_5pm_df['free_bikes'] / bikeshare_5pm_df['slots']\n",
    "available_bikes_df['2024-02-09, 18:00:00'] = bikeshare_6pm_df['free_bikes'] / bikeshare_6pm_df['slots']\n",
    "available_bikes_df['2024-02-09, 19:00:00'] = bikeshare_7pm_df['free_bikes'] / bikeshare_7pm_df['slots']\n",
    "available_bikes_df['2024-02-09, 20:00:00'] = bikeshare_8pm_df['free_bikes'] / bikeshare_8pm_df['slots']\n",
    "available_bikes_df['2024-02-09, 21:00:00'] = bikeshare_9pm_df['free_bikes'] / bikeshare_9pm_df['slots']\n",
    "available_bikes_df['2024-02-09, 22:00:00'] = bikeshare_10pm_df['free_bikes'] / bikeshare_10pm_df['slots']\n",
    "available_bikes_df['2024-02-10, 00:00:00'] = bikeshare_12am_df['free_bikes'] / bikeshare_12am_df['slots']\n",
    "available_bikes_df['2024-02-10, 01:00:00'] = bikeshare_1am_df['free_bikes'] / bikeshare_1am_df['slots']\n",
    "available_bikes_df['2024-02-10, 02:00:00'] = bikeshare_2am_df['free_bikes'] / bikeshare_2am_df['slots']\n",
    "available_bikes_df['2024-02-10, 03:00:00'] = bikeshare_3am_df['free_bikes'] / bikeshare_3am_df['slots']\n",
    "\n",
    "\n",
    "# Check the new dataframe to ensure columns have populated properly and the number of rows remains unchanged\n",
    "print(available_bikes_df.head())\n",
    "print(available_bikes_df.shape)"
   ]
  },
  {
   "cell_type": "markdown",
   "metadata": {},
   "source": [
    "**Create new dataframe for bar count by bikeshare location id** <br>\n",
    "Load .pkl file and create new database with only bikeshare location id and the bar count (number of locations per bikeshare)."
   ]
  },
  {
   "cell_type": "code",
   "execution_count": 33,
   "metadata": {
    "tags": []
   },
   "outputs": [
    {
     "name": "stdout",
     "output_type": "stream",
     "text": [
      "                                 id  bar_count\n",
      "0  012d3e06901cc222b1c2cf0a2ace3a29          1\n",
      "1  0438114d2e6b96118de69bc9775bb21e          5\n",
      "2  06487275cd19694152824c7c3088e8ff          2\n",
      "3  064a7b39b1dbc4bfc4cf8f454e360c57          1\n",
      "4  066ecc3584913fa035ec1417323beb80          1\n",
      "(157, 2)\n"
     ]
    }
   ],
   "source": [
    "#call all bikeshare dataframes saved as a .pkl files\n",
    "temp1_df= pd.read_pickle(\"bars_within_5min_walk_to_vancouver_bikeshare_locations.pkl\")\n",
    "temp1_df.head(3)\n",
    "\n",
    "temp2_df= temp1_df.drop(columns=['name', 'distance'])\n",
    "temp2_df.head(3)\n",
    "\n",
    "# Grouping by 'bikeshare location id' and counting 'fsq_id'\n",
    "bars_df = temp2_df.groupby('bikeshare_location_id').size().reset_index(name='bar_count')\n",
    "\n",
    "# Renaming 'bikeshare location id' to 'id' and moving it to the left\n",
    "bars_df = bars_df.rename(columns={'bikeshare_location_id': 'id'})[['id', 'bar_count']]\n",
    "\n",
    "print(bars_df.head())\n",
    "print(bars_df.shape)\n",
    "\n",
    "# # Query to select all rows from your_table_name\n",
    "# query = \"SELECT bikeshare_location_id, COUNT(fsq_id) AS bar_count FROM bars_within_5min_walk_to_vancouver_bikeshare_locations GROUP BY bikeshare_location_id;\"\n",
    "\n",
    "# # Execute the query and fetch the results into a DataFrame\n",
    "# temp1_df = pd.read_sql_query(query, conn)\n",
    "\n",
    "# #rename columns for easier merge in next step\n",
    "# bars_df = temp1_df.rename(columns={\"bikeshare_location_id\": \"id\"})"
   ]
  },
  {
   "cell_type": "markdown",
   "metadata": {
    "tags": []
   },
   "source": [
    "**Merge bikeshare percent available bikes temporal data with bar count using bikeshare location ID**"
   ]
  },
  {
   "cell_type": "code",
   "execution_count": 35,
   "metadata": {
    "tags": []
   },
   "outputs": [
    {
     "name": "stdout",
     "output_type": "stream",
     "text": [
      "                                 id  bar_count  2024-02-09, 17:00:00  \\\n",
      "0  7a19c49f486d7c0c02b3685d7b240448        NaN              0.222222   \n",
      "1  32603a87cfca71d0f7dfa3513bad69d5        9.0              0.812500   \n",
      "2  6d42fa40360f9a6b2bf641c7b8bb2862        8.0              0.307692   \n",
      "\n",
      "   2024-02-09, 18:00:00  2024-02-09, 19:00:00  2024-02-09, 20:00:00  \\\n",
      "0              0.083333              0.027778              0.055556   \n",
      "1              0.625000              0.687500              0.625000   \n",
      "2              0.307692              0.153846              0.153846   \n",
      "\n",
      "   2024-02-09, 21:00:00  2024-02-09, 22:00:00  2024-02-10, 00:00:00  \\\n",
      "0              0.027778              0.027778              0.027778   \n",
      "1              0.562500              0.562500              0.500000   \n",
      "2              0.230769              0.230769              0.192308   \n",
      "\n",
      "   2024-02-10, 01:00:00  2024-02-10, 02:00:00  2024-02-10, 03:00:00  \n",
      "0              0.027778              0.027778              0.027778  \n",
      "1              0.500000              0.562500              0.562500  \n",
      "2              0.192308              0.192308              0.192308  \n",
      "(248, 12)\n"
     ]
    }
   ],
   "source": [
    "# 'right' join (merge) dataframes using id column as key\n",
    "complete_bikeshare_with_bar_count_df = pd.merge(bars_df, available_bikes_df, how= 'right', on='id')\n",
    "\n",
    "#Optional: check that merge worked as planned and column count is correct (248)\n",
    "print(complete_bikeshare_with_bar_count_df.head(3))\n",
    "print(complete_bikeshare_with_bar_count_df.shape)"
   ]
  },
  {
   "cell_type": "markdown",
   "metadata": {
    "tags": []
   },
   "source": [
    "**Fill NaN Bar Count Values with zero**"
   ]
  },
  {
   "cell_type": "code",
   "execution_count": 36,
   "metadata": {
    "tags": []
   },
   "outputs": [
    {
     "name": "stdout",
     "output_type": "stream",
     "text": [
      "                                 id  bar_count  2024-02-09, 17:00:00  \\\n",
      "0  7a19c49f486d7c0c02b3685d7b240448        0.0              0.222222   \n",
      "1  32603a87cfca71d0f7dfa3513bad69d5        9.0              0.812500   \n",
      "2  6d42fa40360f9a6b2bf641c7b8bb2862        8.0              0.307692   \n",
      "\n",
      "   2024-02-09, 18:00:00  2024-02-09, 19:00:00  2024-02-09, 20:00:00  \\\n",
      "0              0.083333              0.027778              0.055556   \n",
      "1              0.625000              0.687500              0.625000   \n",
      "2              0.307692              0.153846              0.153846   \n",
      "\n",
      "   2024-02-09, 21:00:00  2024-02-09, 22:00:00  2024-02-10, 00:00:00  \\\n",
      "0              0.027778              0.027778              0.027778   \n",
      "1              0.562500              0.562500              0.500000   \n",
      "2              0.230769              0.230769              0.192308   \n",
      "\n",
      "   2024-02-10, 01:00:00  2024-02-10, 02:00:00  2024-02-10, 03:00:00  \n",
      "0              0.027778              0.027778              0.027778  \n",
      "1              0.500000              0.562500              0.562500  \n",
      "2              0.192308              0.192308              0.192308  \n",
      "(248, 12)\n",
      "Index(['id', 'bar_count', '2024-02-09, 17:00:00', '2024-02-09, 18:00:00',\n",
      "       '2024-02-09, 19:00:00', '2024-02-09, 20:00:00', '2024-02-09, 21:00:00',\n",
      "       '2024-02-09, 22:00:00', '2024-02-10, 00:00:00', '2024-02-10, 01:00:00',\n",
      "       '2024-02-10, 02:00:00', '2024-02-10, 03:00:00'],\n",
      "      dtype='object')\n"
     ]
    }
   ],
   "source": [
    "#Fill NaN bar count values with zero\n",
    "complete_bikeshare_with_bar_count_df['bar_count'] = complete_bikeshare_with_bar_count_df['bar_count'].fillna(0)\n",
    "\n",
    "#Save dataframe to pickle file\n",
    "complete_bikeshare_with_bar_count_df.to_pickle(\"complete_bikeshare_with_bar_count_df.pkl\")\n",
    "\n",
    "# Display the modified dataframe and info\n",
    "print(complete_bikeshare_with_bar_count_df.head(3))\n",
    "print(complete_bikeshare_with_bar_count_df.shape)\n",
    "print(complete_bikeshare_with_bar_count_df.columns)"
   ]
  },
  {
   "cell_type": "markdown",
   "metadata": {
    "tags": []
   },
   "source": [
    "**Group Data by Bar Count to Pull out Relationships**"
   ]
  },
  {
   "cell_type": "code",
   "execution_count": 37,
   "metadata": {
    "tags": []
   },
   "outputs": [
    {
     "name": "stdout",
     "output_type": "stream",
     "text": [
      "           2024-02-09, 17:00:00  2024-02-09, 18:00:00  2024-02-09, 19:00:00  \\\n",
      "bar_count                                                                     \n",
      "0.0                    0.406699              0.406037              0.416925   \n",
      "1.0                    0.390821              0.396661              0.392857   \n",
      "2.0                    0.454553              0.450198              0.471657   \n",
      "3.0                    0.449680              0.431864              0.416710   \n",
      "4.0                    0.461388              0.459887              0.494620   \n",
      "5.0                    0.511636              0.536479              0.553192   \n",
      "6.0                    0.328502              0.348485              0.368159   \n",
      "7.0                    0.750000              0.916667              0.750000   \n",
      "8.0                    0.368169              0.465013              0.455162   \n",
      "9.0                    0.463141              0.387821              0.408654   \n",
      "10.0                   0.513523              0.501349              0.483610   \n",
      "\n",
      "           2024-02-09, 20:00:00  2024-02-09, 21:00:00  2024-02-09, 22:00:00  \\\n",
      "bar_count                                                                     \n",
      "0.0                    0.428036              0.427455              0.428294   \n",
      "1.0                    0.417344              0.407236              0.415764   \n",
      "2.0                    0.471824              0.478428              0.503360   \n",
      "3.0                    0.422842              0.443311              0.400615   \n",
      "4.0                    0.513824              0.453854              0.529472   \n",
      "5.0                    0.534541              0.534372              0.533182   \n",
      "6.0                    0.357413              0.365152              0.343043   \n",
      "7.0                    0.750000              0.750000              0.750000   \n",
      "8.0                    0.443230              0.439082              0.417573   \n",
      "9.0                    0.387821              0.328526              0.328526   \n",
      "10.0                   0.478473              0.476891              0.477494   \n",
      "\n",
      "           2024-02-10, 00:00:00  2024-02-10, 01:00:00  2024-02-10, 02:00:00  \\\n",
      "bar_count                                                                     \n",
      "0.0                    0.428536              0.430507              0.434107   \n",
      "1.0                    0.421877              0.415759              0.413727   \n",
      "2.0                    0.503455              0.498914              0.494518   \n",
      "3.0                    0.402717              0.405664              0.409235   \n",
      "4.0                    0.530345              0.527048              0.530345   \n",
      "5.0                    0.541542              0.539161              0.542264   \n",
      "6.0                    0.365152              0.375356              0.381308   \n",
      "7.0                    0.583333              0.583333              0.500000   \n",
      "8.0                    0.427944              0.420999              0.410853   \n",
      "9.0                    0.333333              0.307692              0.328526   \n",
      "10.0                   0.492492              0.496233              0.489836   \n",
      "\n",
      "           2024-02-10, 03:00:00  \n",
      "bar_count                        \n",
      "0.0                    0.435677  \n",
      "1.0                    0.411524  \n",
      "2.0                    0.493908  \n",
      "3.0                    0.399382  \n",
      "4.0                    0.536595  \n",
      "5.0                    0.553772  \n",
      "6.0                    0.375356  \n",
      "7.0                    0.500000  \n",
      "8.0                    0.404603  \n",
      "9.0                    0.341346  \n",
      "10.0                   0.482917  \n"
     ]
    }
   ],
   "source": [
    "# Create new df of data grouped by bar count with the mean of the datapoints being taken for each timepoint\n",
    "grouped_bar_count = complete_bikeshare_with_bar_count_df.drop(columns = ['id']).groupby('bar_count')\n",
    "available_bikes_by_bar_count_over_time = grouped_bar_count.mean()\n",
    "\n",
    "#print new df\n",
    "print(available_bikes_by_bar_count_over_time)"
   ]
  },
  {
   "cell_type": "markdown",
   "metadata": {},
   "source": [
    "**visualization used as part of your EDA process** <br>\n",
    "Doesn't appear to be a strong relationship"
   ]
  },
  {
   "cell_type": "code",
   "execution_count": 54,
   "metadata": {
    "tags": []
   },
   "outputs": [
    {
     "data": {
      "image/png": "[encoded data removed]",
      "text/plain": [
       "<Figure size 640x480 with 1 Axes>"
      ]
     },
     "metadata": {},
     "output_type": "display_data"
    }
   ],
   "source": [
    "import matplotlib.pyplot as plt\n",
    "\n",
    "# plot lines for each bar count \n",
    "for bar_count, row in available_bikes_by_bar_count_over_time.iterrows():\n",
    "    plt.plot(range(len(available_bikes_by_bar_count_over_time.columns)), row, label=f'Bar Count {bar_count}')\n",
    "\n",
    "# Set x-axis ticks to match your time points\n",
    "plt.xticks(range(len(available_bikes_by_bar_count_over_time.columns)), available_bikes_by_bar_count_over_time.columns, rotation=45)\n",
    "\n",
    "# Set plot properties\n",
    "plt.title('Bikes Availability Over Time')\n",
    "plt.xlabel('Time')\n",
    "plt.ylabel('Bikes Availability (%)')\n",
    "\n",
    "# Move the legend outside of the plot\n",
    "plt.legend(title='Bar Count', bbox_to_anchor=(1.05, 1), loc='upper left')\n",
    "\n",
    "# Save the plot as an image (adjust the filename and format as needed)\n",
    "plt.savefig('bikes_availability_plot.png', bbox_inches='tight')\n",
    "\n",
    "# Show the plot\n",
    "plt.show()"
   ]
  },
  {
   "cell_type": "markdown",
   "metadata": {},
   "source": [
    "# Database"
   ]
  },
  {
   "cell_type": "markdown",
   "metadata": {},
   "source": [
    "Put all your results in an SQLite3 database (remember, SQLite stores its databases as files in your local machine - make sure to create your database in your project's data/ directory!)\n",
    "\n",
    "Look at the data before and after the join to validate your data."
   ]
  },
  {
   "cell_type": "code",
   "execution_count": 5,
   "metadata": {},
   "outputs": [],
   "source": [
    "import sqlite3\n",
    "import pandas as pd"
   ]
  },
  {
   "cell_type": "markdown",
   "metadata": {},
   "source": [
    "**Creating Bikeshare Data Tables** <br>\n",
    "Create project database and add the following tables to project database: <br>\n",
    "\n",
    "Table (1) for bikeshare location information including the following columns: <br>\n",
    "(bikeshare)\"id\" as primary key, \"name\", \"city\", \"latitude\", \"longitude\", \"slots\"\n",
    "\n",
    "Table (2) for time dependant bikeshare location variables at all timepoints including the following columns:<br>\n",
    "(bikeshare)\"id\" as foreign key, \"empty_slots\", \"free_bikes\", \"timestamp\", \"ebikes\", \"normal_bikes\""
   ]
  },
  {
   "cell_type": "code",
   "execution_count": 7,
   "metadata": {
    "tags": []
   },
   "outputs": [],
   "source": [
    "# #call all bikeshare dataframes saved as a .pkl files\n",
    "bikeshare_5pm_df= pd.read_pickle(\"result_5_05pm_vancouver_bikeshare.pkl\")\n",
    "bikeshare_6pm_df= pd.read_pickle(\"result_6_12pm_vancouver_bikeshare.pkl\")\n",
    "bikeshare_7pm_df= pd.read_pickle(\"result_7_18pm_vancouver_bikeshare.pkl\")\n",
    "bikeshare_8pm_df= pd.read_pickle(\"result_8_05pm_vancouver_bikeshare.pkl\")\n",
    "bikeshare_9pm_df= pd.read_pickle(\"result_9_05pm_vancouver_bikeshare.pkl\")\n",
    "bikeshare_10pm_df= pd.read_pickle(\"result_10_10pm_vancouver_bikeshare.pkl\")\n",
    "# bikeshare_11pm_df= pd.read_pickle(\"result_11pm_vancouver_bikeshare.pkl\")\n",
    "bikeshare_12am_df= pd.read_pickle(\"result_12_13am_vancouver_bikeshare.pkl\")\n",
    "bikeshare_1am_df= pd.read_pickle(\"result_1_10am_vancouver_bikeshare.pkl\")\n",
    "bikeshare_2am_df= pd.read_pickle(\"result_2_05am_vancouver_bikeshare.pkl\")\n",
    "bikeshare_3am_df= pd.read_pickle(\"result_3_05am_vancouver_bikeshare.pkl\")"
   ]
  },
  {
   "cell_type": "code",
   "execution_count": 69,
   "metadata": {
    "tags": []
   },
   "outputs": [],
   "source": [
    "# create list of dataframe names to be used in for loop required for SQLite Table (2) creation \n",
    "dataframe_list = [bikeshare_5pm_df, bikeshare_6pm_df, bikeshare_7pm_df, bikeshare_8pm_df, bikeshare_9pm_df, bikeshare_10pm_df, bikeshare_12am_df, bikeshare_1am_df, bikeshare_2am_df, bikeshare_3am_df]"
   ]
  },
  {
   "cell_type": "code",
   "execution_count": null,
   "metadata": {},
   "outputs": [],
   "source": [
    "# # Optional shape check to ensure number of rows is always the same\n",
    "# print(bikeshare_5pm_df.shape)\n",
    "# print(bikeshare_6pm_df.shape)\n",
    "# print(bikeshare_7pm_df.shape)\n",
    "# print(bikeshare_8pm_df.shape)\n",
    "# print(bikeshare_9pm_df.shape)\n",
    "# print(bikeshare_10pm_df.shape)\n",
    "# # print(bikeshare_11pm_df.shape)\n",
    "# print(bikeshare_12am_df.shape)\n",
    "# print(bikeshare_1am_df.shape)\n",
    "# print(bikeshare_2am_df.shape)\n",
    "# print(bikeshare_3am_df.shape)"
   ]
  },
  {
   "cell_type": "markdown",
   "metadata": {
    "tags": []
   },
   "source": [
    "**Table (1): 'vancouver_bikeshare_locations'** <br>\n",
    "(bikeshare)\"id\" as primary key, \"bikeshare_name\", \"city\", \"latitude\", \"longitude\", \"slots\""
   ]
  },
  {
   "cell_type": "code",
   "execution_count": 64,
   "metadata": {
    "tags": []
   },
   "outputs": [],
   "source": [
    "# create temporary df using one of the bikeshare dataframes with only the columns required for database table, drop all other columns\n",
    "temp_df = bikeshare_5pm_df.drop(columns =[\"empty_slots\", \"free_bikes\", \"timestamp\", \"ebikes\", \"normal_bikes\"])\n",
    "\n",
    "# Connect to SQLite database (or create a new one if .db doesn't exist)\n",
    "conn = sqlite3.connect('statistical_modelling_project.db')\n",
    "\n",
    "# Create a cursor object to execute SQL commands\n",
    "cursor = conn.cursor()\n",
    "\n",
    "# Define the SQLite table schema\n",
    "table_1_schema = '''\n",
    "    CREATE TABLE IF NOT EXISTS vancouver_bikeshare_locations (\n",
    "        id TEXT PRIMARY KEY,\n",
    "        name TEXT,\n",
    "        city TEXT,\n",
    "        latitude TEXT,\n",
    "        longitude TEXT,\n",
    "        slots INTEGER\n",
    "    );\n",
    "'''\n",
    "\n",
    "# Execute the table creation SQL command\n",
    "cursor.execute(table_1_schema)\n",
    "\n",
    "# Commit the changes to the database\n",
    "conn.commit()\n",
    "\n",
    "# Use the to_sql method to write the DataFrame to the SQLite table\n",
    "temp_df.to_sql('vancouver_bikeshare_locations', conn, index=False, if_exists='append')  \n",
    "# Change 'replace' to 'append' if needed - done :)\n",
    "\n",
    "# Close the database connection\n",
    "conn.close()"
   ]
  },
  {
   "cell_type": "code",
   "execution_count": 65,
   "metadata": {
    "tags": []
   },
   "outputs": [
    {
     "name": "stdout",
     "output_type": "stream",
     "text": [
      "                                 id                         name       city  \\\n",
      "0  7a19c49f486d7c0c02b3685d7b240448                10th & Cambie  Vancouver   \n",
      "1  32603a87cfca71d0f7dfa3513bad69d5  Yaletown-Roundhouse Station  Vancouver   \n",
      "2  6d42fa40360f9a6b2bf641c7b8bb2862            Dunsmuir & Beatty  Vancouver   \n",
      "\n",
      "    latitude    longitude  slots  \n",
      "0  49.262487  -123.114397     36  \n",
      "1  49.274566  -123.121817     16  \n",
      "2  49.279764  -123.110154     26  \n",
      "(248, 6)\n"
     ]
    }
   ],
   "source": [
    "# Optional: connect to the created database and query each created table to ensure tables were properly created and populated\n",
    "# Connect to the SQLite database\n",
    "conn = sqlite3.connect('statistical_modelling_project.db')\n",
    "\n",
    "# Query to select all rows from your_table_name\n",
    "query = \"SELECT * FROM vancouver_bikeshare_locations;\"\n",
    "\n",
    "# Execute the query and fetch the results into a DataFrame\n",
    "bikeshare_df = pd.read_sql_query(query, conn)\n",
    "\n",
    "# Display the DataFrame\n",
    "print(bikeshare_df.head(3))\n",
    "print(bikeshare_df.shape)\n",
    "\n",
    "# Close the database connection\n",
    "conn.close()"
   ]
  },
  {
   "cell_type": "code",
   "execution_count": 66,
   "metadata": {
    "tags": []
   },
   "outputs": [],
   "source": [
    "# #Optional: code to drop table if required\n",
    "# conn = sqlite3.connect('statistical_modelling_project.db')\n",
    "# cursor = conn.cursor()\n",
    "# cursor.execute(\"DROP TABLE vancouver_bikeshare_locations;\")\n",
    "# conn.commit()\n",
    "# conn.close()"
   ]
  },
  {
   "cell_type": "markdown",
   "metadata": {},
   "source": [
    "**Table (2): 'bikeshare_location_temporal_data'** <br>\n",
    "(bikeshare)\"id\" as foreign key, \"empty_slots\", \"free_bikes\", \"timestamp\", \"ebikes\", \"normal_bikes\""
   ]
  },
  {
   "cell_type": "code",
   "execution_count": 74,
   "metadata": {
    "tags": []
   },
   "outputs": [],
   "source": [
    "# loop through dataframe list to append each dataframe to the bikeshare_location_temporal_data\n",
    "for df in dataframe_list:\n",
    "    \n",
    "    # create temporary df with only the columns required for database table, drop all othercolumns\n",
    "    temp_df = bikeshare_5pm_df.drop(columns = [\"name\", \"city\", \"latitude\", \"longitude\", \"slots\"])\n",
    "\n",
    "    # Connect to SQLite database\n",
    "    conn = sqlite3.connect('statistical_modelling_project.db')\n",
    "\n",
    "    # Create a cursor object to execute SQL commands\n",
    "    cursor = conn.cursor()\n",
    "\n",
    "    # Define the SQLite table schema\n",
    "    table_1_schema = '''\n",
    "        CREATE TABLE IF NOT EXISTS bikeshare_location_temporal_data (\n",
    "            id TEXT,\n",
    "            empty_slots INTEGER,\n",
    "            free_bikes INTEGER,\n",
    "            timestamp TIMESTAMP,\n",
    "            ebikes INTEGER,\n",
    "            normal_bikes INTEGER,\n",
    "            FOREIGN KEY (id) REFERENCES vancouver_bikeshare_locations (id)\n",
    "        );\n",
    "    '''\n",
    "\n",
    "    # Execute the table creation SQL command\n",
    "    cursor.execute(table_1_schema)\n",
    "\n",
    "    # Commit the changes to the database\n",
    "    conn.commit()\n",
    "\n",
    "    # Use the to_sql method to write the DataFrame to the SQLite table\n",
    "    temp_df.to_sql('bikeshare_location_temporal_data', conn, index=False, if_exists='append')  \n",
    "    # Change 'replace' to 'append' if needed - done :)\n",
    "\n",
    "    # Close the database connection\n",
    "    conn.close()"
   ]
  },
  {
   "cell_type": "code",
   "execution_count": 83,
   "metadata": {
    "tags": []
   },
   "outputs": [
    {
     "name": "stdout",
     "output_type": "stream",
     "text": [
      "                                 id  empty_slots  free_bikes  \\\n",
      "0  7a19c49f486d7c0c02b3685d7b240448           27           8   \n",
      "1  32603a87cfca71d0f7dfa3513bad69d5            3          13   \n",
      "2  6d42fa40360f9a6b2bf641c7b8bb2862           17           8   \n",
      "\n",
      "                          timestamp  ebikes  normal_bikes  \n",
      "0  2024-02-09 16:57:42.176000-08:00       4             4  \n",
      "1  2024-02-09 16:57:42.168000-08:00       0            13  \n",
      "2  2024-02-09 16:57:42.173000-08:00       0             8  \n",
      "(2480, 6)\n"
     ]
    }
   ],
   "source": [
    "# Optional: connect to the created database and query each created table to ensure tables were properly created and populated\n",
    "# Connect to the SQLite database\n",
    "conn = sqlite3.connect('statistical_modelling_project.db')\n",
    "\n",
    "# Query to select all rows from your_table_name\n",
    "query = \"SELECT * FROM bikeshare_location_temporal_data;\"\n",
    "\n",
    "# Execute the query and fetch the results into a DataFrame\n",
    "bikeshare_df = pd.read_sql_query(query, conn)\n",
    "\n",
    "# Display the DataFrame\n",
    "print(bikeshare_df.head(3))\n",
    "print(bikeshare_df.shape)\n",
    "\n",
    "# Close the database connection\n",
    "conn.close()"
   ]
  },
  {
   "cell_type": "code",
   "execution_count": 72,
   "metadata": {
    "tags": []
   },
   "outputs": [],
   "source": [
    "# #Optional: code to drop table if required\n",
    "# conn = sqlite3.connect('statistical_modelling_project.db')\n",
    "# cursor = conn.cursor()\n",
    "# cursor.execute(\"DROP TABLE bikeshare_location_temporal_data;\")\n",
    "# conn.commit()\n",
    "# conn.close()"
   ]
  },
  {
   "cell_type": "markdown",
   "metadata": {},
   "source": [
    "**Creating Foursquare Data Table** <br>\n",
    "Add the Table (3) to project database for Foursquare bars within 5 minute walk to bikesahre locations including the following columns: <br>"
   ]
  },
  {
   "cell_type": "markdown",
   "metadata": {},
   "source": [
    "**Table (3): 'bars_within_5min_walk_to_vancouver_bikeshare_locations'** <br>\n",
    "\"fsq_id\", \"name\", \"distance\", \"bikeshare_location_id\" as foreign key"
   ]
  },
  {
   "cell_type": "code",
   "execution_count": 8,
   "metadata": {
    "tags": []
   },
   "outputs": [],
   "source": [
    "# #call bars_within_5min_walk_to_vancouver_bikeshare_locations dataframe saved as a .pkl file\n",
    "bars_df= pd.read_pickle(\"bars_within_5min_walk_to_vancouver_bikeshare_locations.pkl\")\n",
    "# # bars_df.shape\n",
    "# # bars_df.head()"
   ]
  },
  {
   "cell_type": "code",
   "execution_count": 9,
   "metadata": {
    "tags": []
   },
   "outputs": [],
   "source": [
    "# Connect to SQLite database\n",
    "conn = sqlite3.connect('statistical_modelling_project.db')\n",
    "\n",
    "# Create a cursor object to execute SQL commands\n",
    "cursor = conn.cursor()\n",
    "\n",
    "# Define the SQLite table schema\n",
    "table_schema = '''\n",
    "    CREATE TABLE IF NOT EXISTS bars_within_5_min_walk_to_vancouver_bikeshare_locations (\n",
    "        fsq_id TEXT,\n",
    "        name TEXT,\n",
    "        distance TEXT,\n",
    "        bikeshare_location_id TEXT,\n",
    "        FOREIGN KEY (bikeshare_location_id) REFERENCES vancouver_bikeshare_locations (id)\n",
    "    );\n",
    "'''\n",
    "\n",
    "# Execute the table creation SQL command\n",
    "cursor.execute(table_schema)\n",
    "\n",
    "# Commit the changes to the database\n",
    "conn.commit()\n",
    "\n",
    "# Use the to_sql method to write the DataFrame to the SQLite table\n",
    "bars_df.to_sql('bars_within_5_min_walk_to_vancouver_bikeshare_locations', conn, index=False, if_exists='append')  \n",
    "# Change 'replace' to 'append' if needed - done :)\n",
    "\n",
    "# Close the database connection\n",
    "conn.close()"
   ]
  },
  {
   "cell_type": "code",
   "execution_count": 82,
   "metadata": {
    "tags": []
   },
   "outputs": [
    {
     "name": "stdout",
     "output_type": "stream",
     "text": [
      "                     fsq_id                          name distance  \\\n",
      "0  4aa7d1a8f964a520624d20e3    Brix Restaurant & Wine Bar      133   \n",
      "1  50f79659e4b0c8265c3c52b7            TWB - the Wine Bar      232   \n",
      "2  4aaa02cbf964a520905520e3           Yaletown Brewing Co      110   \n",
      "3  517b21d7e4b08338c6c6e247  The Distillery Bar + Kitchen       87   \n",
      "4  5650184c498e340b58909282                 Hello Goodbye      116   \n",
      "\n",
      "              bikeshare_location_id  \n",
      "0  32603a87cfca71d0f7dfa3513bad69d5  \n",
      "1  32603a87cfca71d0f7dfa3513bad69d5  \n",
      "2  32603a87cfca71d0f7dfa3513bad69d5  \n",
      "3  32603a87cfca71d0f7dfa3513bad69d5  \n",
      "4  32603a87cfca71d0f7dfa3513bad69d5  \n",
      "(673, 4)\n"
     ]
    }
   ],
   "source": [
    "# Optional: connect to the created database and query each created table to ensure tables were properly created and populated\n",
    "# Connect to the SQLite database\n",
    "conn = sqlite3.connect('statistical_modelling_project.db')\n",
    "\n",
    "# Query to select all rows from your_table_name\n",
    "query = \"SELECT * FROM bars_within_5_min_walk_to_vancouver_bikeshare_locations;\"\n",
    "\n",
    "# Execute the query and fetch the results into a DataFrame\n",
    "bars_df = pd.read_sql_query(query, conn)\n",
    "\n",
    "# Display the DataFrame\n",
    "print(bars_df.head(5))\n",
    "print(bars_df.shape)\n",
    "\n",
    "# Close the database connection\n",
    "conn.close()"
   ]
  },
  {
   "cell_type": "code",
   "execution_count": 10,
   "metadata": {
    "tags": []
   },
   "outputs": [],
   "source": [
    "# #code to drop table if required\n",
    "# conn = sqlite3.connect('statistical_modelling_project.db')\n",
    "# cursor = conn.cursor()\n",
    "# cursor.execute(\"DROP TABLE bars_within_5_min_walk_to_vancouver_bikeshare_locations;\")\n",
    "# conn.commit()\n",
    "# conn.close()"
   ]
  },
  {
   "cell_type": "markdown",
   "metadata": {
    "tags": []
   },
   "source": [
    "**Table (1): 'vancouver_bikeshare_locations'** <br>\n",
    "(bikeshare)\"id\" as primary key, \"bikeshare_name\", \"city\", \"latitude\", \"longitude\", \"slots\""
   ]
  },
  {
   "cell_type": "code",
   "execution_count": 64,
   "metadata": {
    "tags": []
   },
   "outputs": [],
   "source": [
    "# create temporary df using one of the bikeshare dataframes with only the columns required for database table, drop all other columns\n",
    "temp_df = bikeshare_5pm_df.drop(columns =[\"empty_slots\", \"free_bikes\", \"timestamp\", \"ebikes\", \"normal_bikes\"])\n",
    "\n",
    "# Connect to SQLite database (or create a new one if it doesn't exist)\n",
    "conn = sqlite3.connect('statistical_modelling_project_db.db')\n",
    "\n",
    "# Create a cursor object to execute SQL commands\n",
    "cursor = conn.cursor()\n",
    "\n",
    "# Define the SQLite table schema\n",
    "table_1_schema = '''\n",
    "    CREATE TABLE IF NOT EXISTS vancouver_bikeshare_locations (\n",
    "        id TEXT PRIMARY KEY,\n",
    "        name TEXT,\n",
    "        city TEXT,\n",
    "        latitude TEXT,\n",
    "        longitude TEXT,\n",
    "        slots INTEGER\n",
    "    );\n",
    "'''\n",
    "\n",
    "# Execute the table creation SQL command\n",
    "cursor.execute(table_1_schema)\n",
    "\n",
    "# Commit the changes to the database\n",
    "conn.commit()\n",
    "\n",
    "# Use the to_sql method to write the DataFrame to the SQLite table\n",
    "temp_df.to_sql('vancouver_bikeshare_locations', conn, index=False, if_exists='append')  \n",
    "# Change 'replace' to 'append' if needed - done :)\n",
    "\n",
    "# Close the database connection\n",
    "conn.close()"
   ]
  },
  {
   "cell_type": "code",
   "execution_count": 65,
   "metadata": {
    "tags": []
   },
   "outputs": [
    {
     "name": "stdout",
     "output_type": "stream",
     "text": [
      "                                 id                         name       city  \\\n",
      "0  7a19c49f486d7c0c02b3685d7b240448                10th & Cambie  Vancouver   \n",
      "1  32603a87cfca71d0f7dfa3513bad69d5  Yaletown-Roundhouse Station  Vancouver   \n",
      "2  6d42fa40360f9a6b2bf641c7b8bb2862            Dunsmuir & Beatty  Vancouver   \n",
      "\n",
      "    latitude    longitude  slots  \n",
      "0  49.262487  -123.114397     36  \n",
      "1  49.274566  -123.121817     16  \n",
      "2  49.279764  -123.110154     26  \n",
      "(248, 6)\n"
     ]
    }
   ],
   "source": [
    "# Optional: connect to the created database and query each created table to ensure tables were properly created and populated\n",
    "# Connect to the SQLite database\n",
    "conn = sqlite3.connect('statistical_modelling_project_db.db')\n",
    "\n",
    "# Query to select all rows from your_table_name\n",
    "query = \"SELECT * FROM vancouver_bikeshare_locations;\"\n",
    "\n",
    "# Execute the query and fetch the results into a DataFrame\n",
    "bikeshare_df = pd.read_sql_query(query, conn)\n",
    "\n",
    "# Display the DataFrame\n",
    "print(bikeshare_df.head(3))\n",
    "print(bikeshare_df.shape)\n",
    "\n",
    "# Close the database connection\n",
    "conn.close()"
   ]
  },
  {
   "cell_type": "code",
   "execution_count": 66,
   "metadata": {
    "tags": []
   },
   "outputs": [],
   "source": [
    "# #Optional: code to drop table if required\n",
    "# conn = sqlite3.connect('statistical_modelling_project_db.db')\n",
    "# cursor = conn.cursor()\n",
    "# cursor.execute(\"DROP TABLE vancouver_bikeshare_locations;\")\n",
    "# conn.commit()\n",
    "# conn.close()"
   ]
  },
  {
   "cell_type": "markdown",
   "metadata": {},
   "source": [
    "**Table (2): 'bikeshare_location_temporal_data'** <br>\n",
    "(bikeshare)\"id\" as foreign key, \"empty_slots\", \"free_bikes\", \"timestamp\", \"ebikes\", \"normal_bikes\""
   ]
  },
  {
   "cell_type": "code",
   "execution_count": 74,
   "metadata": {
    "tags": []
   },
   "outputs": [],
   "source": [
    "# loop through dataframe list to append each dataframe to the bikeshare_location_temporal_data\n",
    "for df in dataframe_list:\n",
    "    \n",
    "    # create temporary df with only the columns required for database table, drop all othercolumns\n",
    "    temp_df = bikeshare_5pm_df.drop(columns = [\"name\", \"city\", \"latitude\", \"longitude\", \"slots\"])\n",
    "\n",
    "    # Connect to SQLite database (or create a new one if it doesn't exist)\n",
    "    conn = sqlite3.connect('statistical_modelling_project_db.db')\n",
    "\n",
    "    # Create a cursor object to execute SQL commands\n",
    "    cursor = conn.cursor()\n",
    "\n",
    "    # Define the SQLite table schema\n",
    "    table_1_schema = '''\n",
    "        CREATE TABLE IF NOT EXISTS bikeshare_location_temporal_data (\n",
    "            id TEXT,\n",
    "            empty_slots INTEGER,\n",
    "            free_bikes INTEGER,\n",
    "            timestamp TIMESTAMP,\n",
    "            ebikes INTEGER,\n",
    "            normal_bikes INTEGER,\n",
    "            FOREIGN KEY (id) REFERENCES vancouver_bikeshare_locations (id)\n",
    "        );\n",
    "    '''\n",
    "\n",
    "    # Execute the table creation SQL command\n",
    "    cursor.execute(table_1_schema)\n",
    "\n",
    "    # Commit the changes to the database\n",
    "    conn.commit()\n",
    "\n",
    "    # Use the to_sql method to write the DataFrame to the SQLite table\n",
    "    temp_df.to_sql('bikeshare_location_temporal_data', conn, index=False, if_exists='append')  \n",
    "    # Change 'replace' to 'append' if needed - done :)\n",
    "\n",
    "    # Close the database connection\n",
    "    conn.close()"
   ]
  },
  {
   "cell_type": "code",
   "execution_count": 83,
   "metadata": {
    "tags": []
   },
   "outputs": [
    {
     "name": "stdout",
     "output_type": "stream",
     "text": [
      "                                 id  empty_slots  free_bikes  \\\n",
      "0  7a19c49f486d7c0c02b3685d7b240448           27           8   \n",
      "1  32603a87cfca71d0f7dfa3513bad69d5            3          13   \n",
      "2  6d42fa40360f9a6b2bf641c7b8bb2862           17           8   \n",
      "\n",
      "                          timestamp  ebikes  normal_bikes  \n",
      "0  2024-02-09 16:57:42.176000-08:00       4             4  \n",
      "1  2024-02-09 16:57:42.168000-08:00       0            13  \n",
      "2  2024-02-09 16:57:42.173000-08:00       0             8  \n",
      "(2480, 6)\n"
     ]
    }
   ],
   "source": [
    "# Optional: connect to the created database and query each created table to ensure tables were properly created and populated\n",
    "# Connect to the SQLite database\n",
    "conn = sqlite3.connect('statistical_modelling_project_db.db')\n",
    "\n",
    "# Query to select all rows from your_table_name\n",
    "query = \"SELECT * FROM bikeshare_location_temporal_data;\"\n",
    "\n",
    "# Execute the query and fetch the results into a DataFrame\n",
    "bikeshare_df = pd.read_sql_query(query, conn)\n",
    "\n",
    "# Display the DataFrame\n",
    "print(bikeshare_df.head(3))\n",
    "print(bikeshare_df.shape)\n",
    "\n",
    "# Close the database connection\n",
    "conn.close()"
   ]
  },
  {
   "cell_type": "code",
   "execution_count": 72,
   "metadata": {
    "tags": []
   },
   "outputs": [],
   "source": [
    "# #Optional: code to drop table if required\n",
    "# conn = sqlite3.connect('statistical_modelling_project_db.db')\n",
    "# cursor = conn.cursor()\n",
    "# cursor.execute(\"DROP TABLE bikeshare_location_temporal_data;\")\n",
    "# conn.commit()\n",
    "# conn.close()"
   ]
  },
  {
   "cell_type": "markdown",
   "metadata": {},
   "source": [
    "**Creating Foursquare Data Table** <br>\n",
    "Add the Table (3) to project database for Foursquare bars within 5 minute walk to bikesahre locations including the following columns: <br>"
   ]
  },
  {
   "cell_type": "markdown",
   "metadata": {},
   "source": [
    "**Table (3): 'bars_within_5min_walk_to_vancouver_bikeshare_locations'** <br>\n",
    "\"fsq_id\", \"name\", \"distance\", \"bikeshare_location_id\" as foreign key"
   ]
  },
  {
   "cell_type": "code",
   "execution_count": 76,
   "metadata": {
    "tags": []
   },
   "outputs": [],
   "source": [
    "#call bars_within_5min_walk_to_vancouver_bikeshare_locations dataframe saved as a .pkl file\n",
    "bars_df= pd.read_pickle(\"bars_within_5min_walk_to_vancouver_bikeshare_locations.pkl\")\n",
    "# bars_df.shape\n",
    "# bars_df.head()"
   ]
  },
  {
   "cell_type": "code",
   "execution_count": 81,
   "metadata": {
    "tags": []
   },
   "outputs": [],
   "source": [
    "# Connect to SQLite database (or create a new one if it doesn't exist)\n",
    "conn = sqlite3.connect('statistical_modelling_project_db.db')\n",
    "\n",
    "# Create a cursor object to execute SQL commands\n",
    "cursor = conn.cursor()\n",
    "\n",
    "# Define the SQLite table schema\n",
    "table_schema = '''\n",
    "    CREATE TABLE IF NOT EXISTS bars_within_5_min_walk_to_vancouver_bikeshare_locations (\n",
    "        fsq_id TEXT,\n",
    "        name TEXT,\n",
    "        distance TEXT,\n",
    "        bikeshare_location_id TEXT,\n",
    "        FOREIGN KEY (bikeshare_location_id) REFERENCES vancouver_bikeshare_locations (id)\n",
    "    );\n",
    "'''\n",
    "\n",
    "# Execute the table creation SQL command\n",
    "cursor.execute(table_schema)\n",
    "\n",
    "# Commit the changes to the database\n",
    "conn.commit()\n",
    "\n",
    "# Use the to_sql method to write the DataFrame to the SQLite table\n",
    "bars_df.to_sql('bars_within_5_min_walk_to_vancouver_bikeshare_locations', conn, index=False, if_exists='append')  \n",
    "# Change 'replace' to 'append' if needed - done :)\n",
    "\n",
    "# Close the database connection\n",
    "conn.close()"
   ]
  },
  {
   "cell_type": "code",
   "execution_count": 82,
   "metadata": {
    "tags": []
   },
   "outputs": [
    {
     "name": "stdout",
     "output_type": "stream",
     "text": [
      "                     fsq_id                          name distance  \\\n",
      "0  4aa7d1a8f964a520624d20e3    Brix Restaurant & Wine Bar      133   \n",
      "1  50f79659e4b0c8265c3c52b7            TWB - the Wine Bar      232   \n",
      "2  4aaa02cbf964a520905520e3           Yaletown Brewing Co      110   \n",
      "3  517b21d7e4b08338c6c6e247  The Distillery Bar + Kitchen       87   \n",
      "4  5650184c498e340b58909282                 Hello Goodbye      116   \n",
      "\n",
      "              bikeshare_location_id  \n",
      "0  32603a87cfca71d0f7dfa3513bad69d5  \n",
      "1  32603a87cfca71d0f7dfa3513bad69d5  \n",
      "2  32603a87cfca71d0f7dfa3513bad69d5  \n",
      "3  32603a87cfca71d0f7dfa3513bad69d5  \n",
      "4  32603a87cfca71d0f7dfa3513bad69d5  \n",
      "(673, 4)\n"
     ]
    }
   ],
   "source": [
    "# Optional: connect to the created database and query each created table to ensure tables were properly created and populated\n",
    "# Connect to the SQLite database\n",
    "conn = sqlite3.connect('statistical_modelling_project_db.db')\n",
    "\n",
    "# Query to select all rows from your_table_name\n",
    "query = \"SELECT * FROM bars_within_5_min_walk_to_vancouver_bikeshare_locations;\"\n",
    "\n",
    "# Execute the query and fetch the results into a DataFrame\n",
    "bars_df = pd.read_sql_query(query, conn)\n",
    "\n",
    "# Display the DataFrame\n",
    "print(bars_df.head(5))\n",
    "print(bars_df.shape)\n",
    "\n",
    "# Close the database connection\n",
    "conn.close()"
   ]
  },
  {
   "cell_type": "code",
   "execution_count": 11,
   "metadata": {
    "tags": []
   },
   "outputs": [],
   "source": [
    "# #code to drop table if required\n",
    "# conn = sqlite3.connect('statistical_modelling_project_db.db')\n",
    "# cursor = conn.cursor()\n",
    "# cursor.execute(\"DROP TABLE bars_within_5_min_walk_to_vancouver_bikeshare_locations;\")\n",
    "# conn.commit()\n",
    "# conn.close()"
   ]
  }
 ],
 "metadata": {
  "kernelspec": {
   "display_name": "Python 3 (ipykernel)",
   "language": "python",
   "name": "python3"
  },
  "language_info": {
   "codemirror_mode": {
    "name": "ipython",
    "version": 3
   },
   "file_extension": ".py",
   "mimetype": "text/x-python",
   "name": "python",
   "nbconvert_exporter": "python",
   "pygments_lexer": "ipython3",
   "version": "3.11.5"
  }
 },
 "nbformat": 4,
 "nbformat_minor": 4
}
