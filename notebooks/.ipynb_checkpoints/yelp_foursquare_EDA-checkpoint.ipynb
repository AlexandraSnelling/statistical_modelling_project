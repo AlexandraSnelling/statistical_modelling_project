{
 "cells": [
  {
   "cell_type": "code",
   "execution_count": null,
   "metadata": {},
   "outputs": [],
   "source": [
    "# import required libraries and functions\n",
    "import pandas as pd\n",
    "import requests\n",
    "import os\n",
    "import pprint"
   ]
  },
  {
   "cell_type": "markdown",
   "metadata": {},
   "source": [
    "# Foursquare"
   ]
  },
  {
   "cell_type": "markdown",
   "metadata": {},
   "source": [
    "Prepare Foursquare request including the following parameters: <br> \n",
    "-categories <br>\n",
    "-radius <br>\n",
    "-open_at <br>\n",
    "-location"
   ]
  },
  {
   "cell_type": "code",
   "execution_count": null,
   "metadata": {},
   "outputs": [],
   "source": [
    "#assign Foursquare places search API access url\n",
    "url = \"https://api.foursquare.com/v3/places/search\"\n",
    "\n",
    "#pull Foursquare API key from OS environmental variables \n",
    "api_key = os.environ['FOURSQUARE_API_KEY']\n",
    "\n",
    "#assign the required API request headers using api_key\n",
    "headers = {\n",
    "    \"Accept\": \"application/json\",\n",
    "    \"Authorization\": api_key\n",
    "}"
   ]
  },
  {
   "cell_type": "markdown",
   "metadata": {},
   "source": [
    "**categories**<br>\n",
    "Bar category results can be accessed using the param \"query\": \"bar\"<br>\n",
    "Bar category results can also be accessed using the root category ID (13000) in the param \"categories\":\"13000\"<br>\n",
    "Specific bar category results can be accessed via the specific category ID (example: 13004 Dining and Drinking > Bar > Apres Ski Bar)<br>\n",
    "Multiple categories can be added by listing all IDs in a single string, using coma separation<br>\n",
    "\n",
    "Using the query \"bar\" and using the category \"13003 Dining and Drinking > Bar\" returned offtarget results such as cafes(possibly with liquor licences) and more.<br>\n",
    "\n",
    "The following list, representing all category IDs offered by Foursquare within the 'bar' category, was used in the query:<br>\n",
    "13004 Dining and Drinking > Bar > Apres Ski Bar <br>\n",
    "13005 Dining and Drinking > Bar > Beach Bar <br>\n",
    "13006 Dining and Drinking > Bar > Beer Bar <br>\n",
    "13007 Dining and Drinking > Bar > Beer Garden <br>\n",
    "13008 Dining and Drinking > Bar > Champagne Bar <br>\n",
    "13009 Dining and Drinking > Bar > Cocktail Bar <br>\n",
    "13010 Dining and Drinking > Bar > Dive Bar <br>\n",
    "13011 Dining and Drinking > Bar > Gay Bar <br>\n",
    "13012 Dining and Drinking > Bar > Hookah Bar <br>\n",
    "13013 Dining and Drinking > Bar > Hotel Bar <br>\n",
    "13014 Dining and Drinking > Bar > Ice Bar <br>\n",
    "13015 Dining and Drinking > Bar > Karaoke Bar <br>\n",
    "13016 Dining and Drinking > Bar > Lounge <br>\n",
    "13017 Dining and Drinking > Bar > Piano Bar <br>\n",
    "13018 Dining and Drinking > Bar > Pub <br>\n",
    "13019 Dining and Drinking > Bar > Rooftop Bar <br>\n",
    "13020 Dining and Drinking > Bar > Sake Bar <br>\n",
    "13021 Dining and Drinking > Bar > Speakeasy <br>\n",
    "13022 Dining and Drinking > Bar > Sports Bar <br>\n",
    "13023 Dining and Drinking > Bar > Tiki Bar <br>\n",
    "13024 Dining and Drinking > Bar > Whisky Bar <br>\n",
    "13025 Dining and Drinking > Bar > Wine Bar <br>\n",
    "13389 Dining and Drinking > Bar > Irish Pub <br>\n",
    "\n",
    "*bar_category_ids = '13004,13005,13006,13007,13008,13009,13010,13011,13012,13013,13014,13015,13016,13017,13018,13019,13020,13021,13022,13023,13024,13025,13389'"
   ]
  },
  {
   "cell_type": "markdown",
   "metadata": {
    "tags": []
   },
   "source": [
    "**radius** \n",
    "\n",
    "A radius of '5-minute walking distance' from the bike rack locations was calculated based on evidence from the following study: <br>\n",
    "Murtagh EM, Mair JL, Aguiar E, Tudor-Locke C, Murphy MH. Outdoor Walking Speeds of Apparently Healthy Adults: A Systematic Review and Meta-analysis. <br>\n",
    "Sports Med. 2021 Jan;51(1):125-141. doi: 10.1007/s40279-020-01351-3. PMID: 33030707; PMCID: PMC7806575. <br>\n",
    "This study fount that \"walking outdoors at a usual pace was associated with an average speed of 1.31 m/s\" <br>\n",
    "5-minute walking distance was therefore calculated as: 5min x 60sec/min x 1.31 meters/sec = 393meters <br>\n",
    "\n",
    "*five_min_walk_radius = '393'"
   ]
  },
  {
   "cell_type": "markdown",
   "metadata": {
    "tags": []
   },
   "source": [
    "**open_at** <br>\n",
    "Due to the temporal nature of the study, only bars open until at least 10pm were included in the results, in order to ensure the data was focused on the appropriate type of establishment\n",
    "The open_at parameter allows for results to be filtered to only those open at the specified time <br>\n",
    "Time can be specified as DOWTHHMM (e.g., 1T2130), where DOW is the day number 1-7 (Monday = 1, Sunday = 7) and time is in 24 hour format <br>\n",
    "\n",
    "Note: Places that do not have opening hours will not be returned if this parameter is specified <br>\n",
    "\n",
    "*time_10pm = '5T2200'"
   ]
  },
  {
   "cell_type": "code",
   "execution_count": null,
   "metadata": {},
   "outputs": [],
   "source": [
    "#assign the above param variables \n",
    "bar_category_ids = '13004,13005,13006,13007,13008,13009,13010,13011,13012,13013,13014,13015,13016,13017,13018,13019,13020,13021,13022,13023,13024,13025,13389'\n",
    "five_min_walk_radius = '393'\n",
    "time_10pm = '5T2200'"
   ]
  },
  {
   "cell_type": "markdown",
   "metadata": {},
   "source": [
    "**location** <br>\n",
    "The latitude and longitude from each Vancouver bikeshare location is required. <br>\n",
    "\n",
    "These can be pulled from each row of a Vancouver bikeshare dataframe as a tuple used as value in a dictionary. <br> \n",
    "The bikeshare location 'id' corresponding for each row in the dataframe will act as the key entry for each value pair. <br>"
   ]
  },
  {
   "cell_type": "code",
   "execution_count": null,
   "metadata": {},
   "outputs": [],
   "source": [
    "#call a Vancouver bikeshare dataframe saved as a .pkl file from the previous step\n",
    "df= pd.read_pickle(\"result_5_05pm_vancouver_bikeshare.pkl\")\n",
    "\n",
    "# # Optional: Print the first 3 items of the dataframe to ensure proper assignment \n",
    "print(df.head(3))\n",
    "\n",
    "#create a dictionary using 'name' column as keys and a tuple of (latitude, longitude) as the values\n",
    "locations_dict = df.set_index('id')[['latitude', 'longitude']].apply(tuple, axis=1).to_dict()\n",
    "\n",
    "# # Optional: Check the first 3 items of the resulting dictionary to ensure proper conversion\n",
    "list(locations_dict.items())[:3]"
   ]
  },
  {
   "cell_type": "markdown",
   "metadata": {},
   "source": [
    "Parse through the response to pull desired location details including \"fsq_id\", \"name\", \"distance\". <br>\n",
    "Put your parsed results into a DataFrame along with the corresponding bikeshare location ID"
   ]
  },
  {
   "cell_type": "code",
   "execution_count": null,
   "metadata": {},
   "outputs": [],
   "source": [
    "# create list to store dfs for each location\n",
    "dfs = [] \n",
    "\n",
    "for location_name, (latitude, longitude) in list(locations_dict.items()):\n",
    "    params = {\n",
    "        \"ll\": f\"{latitude},{longitude}\",\n",
    "        \"radius\": five_min_walk_radius,\n",
    "        \"categories\": bar_category_ids,\n",
    "        \"open_at\": time_10pm\n",
    "    }\n",
    "\n",
    "    # make request\n",
    "    response = requests.get(url, params=params, headers=headers)\n",
    "\n",
    "    # check if request is successful\n",
    "    if response.status_code == 200:\n",
    "        # parse json content\n",
    "        response_data = response.json()\n",
    "\n",
    "        # extract data from 'results' section\n",
    "        results_data = response_data.get(\"results\", [])\n",
    "\n",
    "        # create dataframe\n",
    "        df = pd.DataFrame(results_data, columns=[\"fsq_id\", \"name\", \"distance\"])\n",
    "\n",
    "        # extract bikeshare_location_id and add 'bikeshare_location_id' column\n",
    "        bikeshare_location_id = location_name\n",
    "        df[\"bikeshare_location_id\"] = bikeshare_location_id\n",
    "\n",
    "        # append the DataFrame to the list\n",
    "        dfs.append(df)\n",
    "\n",
    "#concatenate dataframes from all locations\n",
    "final_df = pd.concat(dfs, ignore_index=True)"
   ]
  },
  {
   "cell_type": "code",
   "execution_count": null,
   "metadata": {},
   "outputs": [],
   "source": [
    "#Optional: print final Ddataframe header and shape to ensure columns were properly assigned and populated\n",
    "print(final_df.head(5))\n",
    "final_df.shape"
   ]
  },
  {
   "cell_type": "code",
   "execution_count": null,
   "metadata": {},
   "outputs": [],
   "source": [
    "# save data frame as a .pkl file\n",
    "final_df.to_pickle(\"test_bars_within_5min_walk_to_vancouver_bikeshare_locations.pkl\")"
   ]
  },
  {
   "cell_type": "markdown",
   "metadata": {},
   "source": [
    "# Yelp"
   ]
  },
  {
   "cell_type": "markdown",
   "metadata": {},
   "source": [
    "Prepare Yelp request including the following parameters: <br> \n",
    "-categories <br>\n",
    "-radius <br>\n",
    "-open_at <br>\n",
    "-location"
   ]
  },
  {
   "cell_type": "code",
   "execution_count": null,
   "metadata": {},
   "outputs": [],
   "source": [
    "#assign Foursquare places search API access url\n",
    "url = \"https://api.yelp.com/v3/businesses/search\"\n",
    "\n",
    "#pull Foursquare API key from OS environmental variables \n",
    "api_key = os.environ['YELP_API_KEY']\n",
    "\n",
    "#assign the required API request headers using api_key\n",
    "headers = {\n",
    "    \"accept\": \"application/json\",\n",
    "    \"authorization\": 'Bearer ' + api_key\n",
    "}"
   ]
  },
  {
   "cell_type": "markdown",
   "metadata": {},
   "source": [
    "**categories**<br>\n",
    "Bar category results can be accessed using the param \"categories\": \"bar\"<br>\n",
    "Bar category results can also be accessed using the root category ID (13000) in the param \"categories\":\"13000\"<br>\n",
    "Specific bar category results can be accessed via the specific category ID (example: 13004 Dining and Drinking > Bar > Apres Ski Bar)<br>\n",
    "Multiple categories can be added by listing all IDs in a single string, using coma separation<br>\n",
    "\n",
    "Using the query \"bar\" and using the category \"13003 Dining and Drinking > Bar\" returned offtarget results such as cafes(possibly with liquor licences) and more.<br>\n",
    "\n",
    "The following list, representing all category IDs offered by Foursquare within the 'bar' category, was used in the query:<br>\n",
    "**Bars (bars, All)** <br>\n",
    "-Absinthe Bars <br>\n",
    "-Airport Lounges <br>\n",
    "-Beach Bars <br>\n",
    "-Beer Bar <br>\n",
    "-Champagne Bars <br> \n",
    "-Cocktail Bars <br>\n",
    "-Dive Bars <br>\n",
    "-Drive-Thru Bars <br>\n",
    "-Gay Bars <br>\n",
    "-Hookah Bars <br>\n",
    "-Hotel bar <br>\n",
    "-Irish Pub <br>\n",
    "-Lounges <br>\n",
    "-Pubs <br>\n",
    "-Pulquerias <br>\n",
    "-Sake Bars <br>\n",
    "-Speakeasies <br>\n",
    "-Sports Bars <br>\n",
    "-Tabac <br>\n",
    "-Tiki Bars <br>\n",
    "-Vermouth Bars <br>\n",
    "-Whiskey Bars <br>\n",
    "-Wine Bars <br>"
   ]
  },
  {
   "cell_type": "markdown",
   "metadata": {
    "tags": []
   },
   "source": [
    "**radius** <br>\n",
    "(as above) <br>\n",
    "*five_min_walk_radius = '393'"
   ]
  },
  {
   "cell_type": "markdown",
   "metadata": {},
   "source": [
    "**open_at** <br>\n",
    "\n",
    "Yelp API requires unix timestamp as input for open_at parameter. <br>\n",
    "10PM Pacific Time was converted to Unix. <br>\n",
    "\n",
    "*time_10pm = \"1707544800\""
   ]
  },
  {
   "cell_type": "markdown",
   "metadata": {
    "tags": []
   },
   "source": [
    "**location** <br>\n",
    "Latitude and Longitude must beentered as seperate parameters in the Yelp API <br>"
   ]
  },
  {
   "cell_type": "code",
   "execution_count": null,
   "metadata": {},
   "outputs": [],
   "source": [
    "params = {\n",
    "        \"latitude\": \"49.262487\",\n",
    "        \"longitude\": \"-123.114397\",\n",
    "        \"radius\": \"500\",\n",
    "        \"categories\": \"bars, All\",\n",
    "        \"open_at\": \"1707544800\"\n",
    "}\n",
    "\n",
    "\n",
    "# Make the request\n",
    "All_bars_response = requests.get(url, params=params, headers=headers)\n",
    "print(All_bars_response)\n"
   ]
  },
  {
   "cell_type": "markdown",
   "metadata": {},
   "source": [
    "# Comparing Results"
   ]
  },
  {
   "cell_type": "markdown",
   "metadata": {},
   "source": [
    "Which API provided you with more complete data? Provide an explanation. "
   ]
  },
  {
   "cell_type": "markdown",
   "metadata": {},
   "source": [
    "Foursquare results were selected over Yelp results because rating and review information was not required and Foursquare results had less information per result so less to store"
   ]
  }
 ],
 "metadata": {
  "kernelspec": {
   "display_name": "Python 3 (ipykernel)",
   "language": "python",
   "name": "python3"
  },
  "language_info": {
   "codemirror_mode": {
    "name": "ipython",
    "version": 3
   },
   "file_extension": ".py",
   "mimetype": "text/x-python",
   "name": "python",
   "nbconvert_exporter": "python",
   "pygments_lexer": "ipython3",
   "version": "3.11.5"
  }
 },
 "nbformat": 4,
 "nbformat_minor": 4
}
